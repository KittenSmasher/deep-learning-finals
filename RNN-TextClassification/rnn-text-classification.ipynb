{
 "cells": [
  {
   "cell_type": "code",
   "execution_count": 23,
   "metadata": {},
   "outputs": [
    {
     "name": "stderr",
     "output_type": "stream",
     "text": [
      "[nltk_data] Downloading package stopwords to\n",
      "[nltk_data]     C:\\Users\\User\\AppData\\Roaming\\nltk_data...\n",
      "[nltk_data]   Package stopwords is already up-to-date!\n"
     ]
    }
   ],
   "source": [
    "import numpy as np\n",
    "from tensorflow.keras.preprocessing.text import Tokenizer\n",
    "from tensorflow.keras.preprocessing.sequence import pad_sequences\n",
    "import csv\n",
    "\n",
    "import nltk\n",
    "nltk.download('stopwords')\n",
    "\n",
    "from nltk.corpus import stopwords"
   ]
  },
  {
   "cell_type": "code",
   "execution_count": 8,
   "metadata": {},
   "outputs": [],
   "source": [
    "STOPWORDS = set(stopwords.words('english'))"
   ]
  },
  {
   "cell_type": "markdown",
   "metadata": {},
   "source": [
    "#### Hyperparameter"
   ]
  },
  {
   "cell_type": "code",
   "execution_count": 9,
   "metadata": {},
   "outputs": [],
   "source": [
    "vocab_size = 5000\n",
    "embedding_dim = 64\n",
    "max_length = 200\n",
    "trunc_type = 'post'\n",
    "padding_type = 'post'\n",
    "oov_tok = '<OOV>'\n",
    "training_portion = 0.8"
   ]
  },
  {
   "cell_type": "code",
   "execution_count": 11,
   "metadata": {},
   "outputs": [
    {
     "data": {
      "text/plain": [
       "(2225, 2225)"
      ]
     },
     "execution_count": 11,
     "metadata": {},
     "output_type": "execute_result"
    }
   ],
   "source": [
    "articles = []\n",
    "labels = []\n",
    "\n",
    "with open('./bbc-text.csv', 'r') as csvfile:\n",
    "    reader = csv.reader(csvfile, delimiter=',')\n",
    "    next(reader)\n",
    "    \n",
    "    for row in reader:\n",
    "        labels.append(row[0])\n",
    "        \n",
    "        article = row[1]\n",
    "        \n",
    "        for word in STOPWORDS:\n",
    "            token = ' ' + word + ' '\n",
    "            article = article.replace(token, ' ')\n",
    "            article = article.replace(' ', ' ')\n",
    "        \n",
    "        articles.append(article)\n",
    "\n",
    "len(articles), len(labels)"
   ]
  },
  {
   "cell_type": "markdown",
   "metadata": {},
   "source": [
    "#### split dataset"
   ]
  },
  {
   "cell_type": "code",
   "execution_count": 12,
   "metadata": {},
   "outputs": [
    {
     "data": {
      "text/plain": [
       "(1780, 1780, 445, 445)"
      ]
     },
     "execution_count": 12,
     "metadata": {},
     "output_type": "execute_result"
    }
   ],
   "source": [
    "from sklearn.model_selection import train_test_split\n",
    "\n",
    "X_train, X_val, y_train, y_val = train_test_split(articles, labels, train_size=training_portion)\n",
    "\n",
    "len(X_train), len(y_train), len(X_val), len(y_val)"
   ]
  },
  {
   "cell_type": "markdown",
   "metadata": {},
   "source": [
    "#### tokenizer"
   ]
  },
  {
   "cell_type": "code",
   "execution_count": 15,
   "metadata": {},
   "outputs": [
    {
     "data": {
      "text/plain": [
       "{'<OOV>': 1,\n",
       " 'said': 2,\n",
       " 'mr': 3,\n",
       " 'would': 4,\n",
       " 'year': 5,\n",
       " 'also': 6,\n",
       " 'people': 7,\n",
       " 'new': 8,\n",
       " 'us': 9,\n",
       " 'one': 10}"
      ]
     },
     "execution_count": 15,
     "metadata": {},
     "output_type": "execute_result"
    }
   ],
   "source": [
    "tokenizer = Tokenizer(num_words=vocab_size, oov_token=oov_tok)\n",
    "tokenizer.fit_on_texts(X_train)\n",
    "\n",
    "word_index = tokenizer.word_index\n",
    "dict(list(word_index.items())[:10])"
   ]
  },
  {
   "cell_type": "code",
   "execution_count": 17,
   "metadata": {},
   "outputs": [],
   "source": [
    "train_sequences = tokenizer.texts_to_sequences(X_train)\n",
    "train_padded = pad_sequences(train_sequences, maxlen=max_length)"
   ]
  },
  {
   "cell_type": "code",
   "execution_count": 18,
   "metadata": {},
   "outputs": [
    {
     "name": "stdout",
     "output_type": "stream",
     "text": [
      "[ 482 3943  228 4496 4115  180 2673 1056    1    5  294 1616  141   65\n",
      "  391 1097 3509  506  950 2296 1618 1616  141 3943   43  432  523 4746\n",
      " 2750  530  518 2059   13   46    2    4 1225 3112 2601 2601 2016  215\n",
      " 2146 1098 3509   60  161 2536 1164 1532  206 4747 4748 2147 3943  190\n",
      "    1 3944 4497    1   24  190   87  650    1    1  482 4498    1    8\n",
      " 1676  650  432 1274  523 3030  951  914  523   46   49   87  432    1\n",
      " 2750 2601  307   64 1941   87  650 3245 2601  229  180  536  927  582\n",
      " 3031 2102 2601  213 1451  617 1645  650  432  523 2297  180  507 1555\n",
      " 3656    1    1  434   15  452  336  482 3510  650 3511    4    1 1646\n",
      "    2  650    4 3388  432  530 1451   74  160    1  694  181    1    9\n",
      " 4499  206  845  223  139 4500    1  418    9  126 3799 1977 2404 2146\n",
      "   10 3512 3032  103  900  890  846 2601   11  341  587 1388 3113  140\n",
      "  950   11 2296  477  161 1703  281  318  365 1978  125  769 2146  281\n",
      "  210  189 1125   65  289  806    1    4 1165   95  284 1019  193 1478\n",
      "  213  806  200    9]\n"
     ]
    }
   ],
   "source": [
    "print(train_padded[10])"
   ]
  },
  {
   "cell_type": "code",
   "execution_count": 19,
   "metadata": {},
   "outputs": [],
   "source": [
    "val_sequences = tokenizer.texts_to_sequences(X_val)\n",
    "val_padded = pad_sequences(val_sequences, maxlen=max_length)"
   ]
  },
  {
   "cell_type": "code",
   "execution_count": 26,
   "metadata": {},
   "outputs": [
    {
     "data": {
      "text/plain": [
       "((1780, 200), (445, 200))"
      ]
     },
     "execution_count": 26,
     "metadata": {},
     "output_type": "execute_result"
    }
   ],
   "source": [
    "train_padded.shape, val_padded.shape"
   ]
  },
  {
   "cell_type": "code",
   "execution_count": 33,
   "metadata": {},
   "outputs": [
    {
     "name": "stdout",
     "output_type": "stream",
     "text": [
      "{'politics', 'business', 'sport', 'entertainment', 'tech'}\n"
     ]
    }
   ],
   "source": [
    "print(set(labels))\n",
    "num_classes = len(set(labels))"
   ]
  },
  {
   "cell_type": "code",
   "execution_count": 24,
   "metadata": {},
   "outputs": [],
   "source": [
    "label_tokenizer = Tokenizer()\n",
    "label_tokenizer.fit_on_texts(labels)\n",
    "\n",
    "train_label_seq = label_tokenizer.texts_to_sequences(y_train)\n",
    "val_label_seq = label_tokenizer.texts_to_sequences(y_val)\n",
    "\n",
    "train_label_seq = np.array(train_label_seq)\n",
    "val_label_seq = np.array(val_label_seq)"
   ]
  },
  {
   "cell_type": "code",
   "execution_count": 25,
   "metadata": {},
   "outputs": [
    {
     "data": {
      "text/plain": [
       "((1780, 1), (445, 1))"
      ]
     },
     "execution_count": 25,
     "metadata": {},
     "output_type": "execute_result"
    }
   ],
   "source": [
    "train_label_seq.shape, val_label_seq.shape"
   ]
  },
  {
   "cell_type": "code",
   "execution_count": 27,
   "metadata": {},
   "outputs": [
    {
     "name": "stdout",
     "output_type": "stream",
     "text": [
      "commission ec despite requests meps law proving controversial <OOV> year major tech firms say needed protect inventions others fear hurt smaller tech firms ec says council ministers adopt draft version agreed upon last may said would review aspects directive directive intended offer patent protection inventions use software achieve effect words computer implemented invention letter ec president <OOV> 233 manuel <OOV> told president european parliament <OOV> <OOV> commission intend <OOV> new proposal parliament council of ministers supported agreement reached ministers may 2004 european council <OOV> draft directive return second reading european parliament guarantee directive become law instead probably mean delays controversy directive eu legislation needs approval parliament council ministers becomes law french green mep <OOV> <OOV> warned two weeks ago commission ignored parliament request would <OOV> assembly said parliament would reject council version legislation part final <OOV> stage decision <OOV> us patenting computer programs internet business methods <OOV> means us based amazon com holds patent one click shopping service example critics concerned directive could lead similar model happening europe fear could hurt small software developers legal financial might larger companies fight patent legal action court supporters say current laws <OOV> would serve even playing field without bringing eu laws line us\n",
      "----------\n",
      "no re-draft  eu patent law proposed european law software patents re-drafted european commission (ec) despite requests meps.  law proving controversial limbo year. major tech firms say needed protect inventions  others fear hurt smaller tech firms. ec says council ministers adopt draft version agreed upon last may said would review  aspects directive . directive intended offer patent protection inventions use software achieve effect  words   computer implemented invention .  letter  ec president jos&#233; manuel barroso told president european parliament  josep borrell  commission  intend refer new proposal parliament council (of ministers)  supported agreement reached ministers may 2004.  european council agrees draft directive return second reading european parliament. guarantee directive become law - instead probably mean delays controversy directive. eu legislation needs approval parliament council ministers becomes law. french green mep alain lipietz warned two weeks ago commission ignored parliament request would  insult  assembly. said parliament would reject council version legislation part final conciliation stage decision procedure. us  patenting computer programs internet business methods permitted.  means us-based amazon.com holds patent  one-click shopping  service  example. critics concerned directive could lead similar model happening europe.  fear  could hurt small software developers legal financial might larger companies fight patent legal action court. supporters say current laws inefficient would serve even playing field without bringing eu laws line us.\n"
     ]
    }
   ],
   "source": [
    "reverse_word_index = dict([(value, key) for (key, value) in word_index.items()])\n",
    "\n",
    "def decode_article(text):\n",
    "    return ' '.join([reverse_word_index.get(i, '?') for i in text])\n",
    "\n",
    "print(decode_article(train_padded[10]))\n",
    "print('----------')\n",
    "print(X_train[10])"
   ]
  },
  {
   "cell_type": "markdown",
   "metadata": {},
   "source": [
    "#### Model"
   ]
  },
  {
   "cell_type": "code",
   "execution_count": 29,
   "metadata": {},
   "outputs": [],
   "source": [
    "from keras.layers import Embedding, Bidirectional, Dense, LSTM\n",
    "from keras.models import Sequential"
   ]
  },
  {
   "cell_type": "code",
   "execution_count": 38,
   "metadata": {},
   "outputs": [
    {
     "name": "stdout",
     "output_type": "stream",
     "text": [
      "Model: \"sequential_1\"\n",
      "_________________________________________________________________\n",
      " Layer (type)                Output Shape              Param #   \n",
      "=================================================================\n",
      " embedding_1 (Embedding)     (None, None, 64)          320000    \n",
      "                                                                 \n",
      " bidirectional_1 (Bidirectio  (None, 128)              66048     \n",
      " nal)                                                            \n",
      "                                                                 \n",
      " dense_2 (Dense)             (None, 64)                8256      \n",
      "                                                                 \n",
      " dense_3 (Dense)             (None, 6)                 390       \n",
      "                                                                 \n",
      "=================================================================\n",
      "Total params: 394,694\n",
      "Trainable params: 394,694\n",
      "Non-trainable params: 0\n",
      "_________________________________________________________________\n"
     ]
    }
   ],
   "source": [
    "model = Sequential([\n",
    "    Embedding(vocab_size, embedding_dim),\n",
    "    Bidirectional(LSTM(embedding_dim)),\n",
    "    Dense(embedding_dim, activation='relu'),\n",
    "    Dense(6, activation='softmax')\n",
    "])\n",
    "\n",
    "model.summary()"
   ]
  },
  {
   "cell_type": "code",
   "execution_count": 39,
   "metadata": {},
   "outputs": [
    {
     "name": "stdout",
     "output_type": "stream",
     "text": [
      "Epoch 1/10\n",
      "56/56 [==============================] - 15s 230ms/step - loss: 1.6327 - accuracy: 0.2624 - val_loss: 1.3835 - val_accuracy: 0.3483\n",
      "Epoch 2/10\n",
      "56/56 [==============================] - 13s 228ms/step - loss: 1.4049 - accuracy: 0.3837 - val_loss: 1.3854 - val_accuracy: 0.3348\n",
      "Epoch 3/10\n",
      "56/56 [==============================] - 13s 224ms/step - loss: 0.9553 - accuracy: 0.6298 - val_loss: 0.7714 - val_accuracy: 0.6944\n",
      "Epoch 4/10\n",
      "56/56 [==============================] - 13s 227ms/step - loss: 0.7528 - accuracy: 0.7185 - val_loss: 0.7457 - val_accuracy: 0.6854\n",
      "Epoch 5/10\n",
      "56/56 [==============================] - 13s 231ms/step - loss: 0.4734 - accuracy: 0.8281 - val_loss: 0.6543 - val_accuracy: 0.7551\n",
      "Epoch 6/10\n",
      "56/56 [==============================] - 13s 234ms/step - loss: 0.4705 - accuracy: 0.8472 - val_loss: 0.4820 - val_accuracy: 0.7596\n",
      "Epoch 7/10\n",
      "56/56 [==============================] - 13s 227ms/step - loss: 0.3678 - accuracy: 0.9107 - val_loss: 0.4019 - val_accuracy: 0.8742\n",
      "Epoch 8/10\n",
      "56/56 [==============================] - 13s 229ms/step - loss: 0.1110 - accuracy: 0.9725 - val_loss: 0.2586 - val_accuracy: 0.9281\n",
      "Epoch 9/10\n",
      "56/56 [==============================] - 12s 223ms/step - loss: 0.0668 - accuracy: 0.9826 - val_loss: 0.2063 - val_accuracy: 0.9438\n",
      "Epoch 10/10\n",
      "56/56 [==============================] - 13s 230ms/step - loss: 0.0211 - accuracy: 0.9978 - val_loss: 0.1683 - val_accuracy: 0.9573\n"
     ]
    }
   ],
   "source": [
    "model.compile(loss='sparse_categorical_crossentropy', optimizer='adam', metrics=['accuracy'])\n",
    "\n",
    "history = model.fit(train_padded, train_label_seq, epochs=10, validation_data=(val_padded, val_label_seq))"
   ]
  },
  {
   "cell_type": "code",
   "execution_count": 36,
   "metadata": {},
   "outputs": [],
   "source": [
    "import matplotlib.pyplot as plt"
   ]
  },
  {
   "cell_type": "code",
   "execution_count": 40,
   "metadata": {},
   "outputs": [
    {
     "data": {
      "image/png": "[encoded data removed]",
      "text/plain": [
       "<Figure size 640x480 with 1 Axes>"
      ]
     },
     "metadata": {},
     "output_type": "display_data"
    },
    {
     "data": {
      "image/png": "[encoded data removed]",
      "text/plain": [
       "<Figure size 640x480 with 1 Axes>"
      ]
     },
     "metadata": {},
     "output_type": "display_data"
    }
   ],
   "source": [
    "def plot_graphs(history, string):\n",
    "  plt.plot(history.history[string])\n",
    "  plt.plot(history.history['val_'+string])\n",
    "  plt.xlabel(\"Epochs\")\n",
    "  plt.ylabel(string)\n",
    "  plt.legend([string, 'val_'+string])\n",
    "  plt.show()\n",
    "  \n",
    "plot_graphs(history, \"accuracy\")\n",
    "plot_graphs(history, \"loss\")"
   ]
  },
  {
   "cell_type": "markdown",
   "metadata": {},
   "source": [
    "#### Predict"
   ]
  },
  {
   "cell_type": "code",
   "execution_count": 43,
   "metadata": {},
   "outputs": [
    {
     "name": "stdout",
     "output_type": "stream",
     "text": [
      "1/1 [==============================] - 0s 23ms/step\n"
     ]
    },
    {
     "name": "stdout",
     "output_type": "stream",
     "text": [
      "category: business\n"
     ]
    }
   ],
   "source": [
    "txt = [\"A WeWork shareholder has taken the company to court over the near-$1.7bn (£1.3bn) leaving package approved for ousted co-founder Adam Neumann.\"]\n",
    "seq = tokenizer.texts_to_sequences(txt)\n",
    "padded = pad_sequences(seq, maxlen=max_length)\n",
    "\n",
    "pred = model.predict(padded)\n",
    "idx = np.argmax(pred)\n",
    "\n",
    "label = label_tokenizer.word_index\n",
    "true_label = list(label.keys())\n",
    "\n",
    "print(f'category: {true_label[idx-1]}')"
   ]
  }
 ],
 "metadata": {
  "kernelspec": {
   "display_name": "deep_learning",
   "language": "python",
   "name": "python3"
  },
  "language_info": {
   "codemirror_mode": {
    "name": "ipython",
    "version": 3
   },
   "file_extension": ".py",
   "mimetype": "text/x-python",
   "name": "python",
   "nbconvert_exporter": "python",
   "pygments_lexer": "ipython3",
   "version": "3.10.9"
  }
 },
 "nbformat": 4,
 "nbformat_minor": 2
}

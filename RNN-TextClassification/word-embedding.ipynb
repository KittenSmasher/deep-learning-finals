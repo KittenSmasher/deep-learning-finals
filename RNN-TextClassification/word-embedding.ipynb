{
 "cells": [
  {
   "cell_type": "code",
   "execution_count": 1,
   "metadata": {},
   "outputs": [],
   "source": [
    "import numpy as np \n",
    "import pandas as pd \n",
    "import keras \n",
    "import tensorflow as tf \n",
    "\n",
    "from keras.preprocessing.text import Tokenizer\n",
    "from keras.utils import pad_sequences\n",
    "\n",
    "import matplotlib.pyplot as plt \n",
    "from nltk.corpus import stopwords"
   ]
  },
  {
   "cell_type": "code",
   "execution_count": 2,
   "metadata": {},
   "outputs": [],
   "source": [
    "path = './bbc-text.csv'"
   ]
  },
  {
   "cell_type": "code",
   "execution_count": 3,
   "metadata": {},
   "outputs": [
    {
     "data": {
      "text/html": [
       "<div>\n",
       "<style scoped>\n",
       "    .dataframe tbody tr th:only-of-type {\n",
       "        vertical-align: middle;\n",
       "    }\n",
       "\n",
       "    .dataframe tbody tr th {\n",
       "        vertical-align: top;\n",
       "    }\n",
       "\n",
       "    .dataframe thead th {\n",
       "        text-align: right;\n",
       "    }\n",
       "</style>\n",
       "<table border=\"1\" class=\"dataframe\">\n",
       "  <thead>\n",
       "    <tr style=\"text-align: right;\">\n",
       "      <th></th>\n",
       "      <th>category</th>\n",
       "      <th>text</th>\n",
       "    </tr>\n",
       "  </thead>\n",
       "  <tbody>\n",
       "    <tr>\n",
       "      <th>0</th>\n",
       "      <td>tech</td>\n",
       "      <td>tv future in the hands of viewers with home th...</td>\n",
       "    </tr>\n",
       "    <tr>\n",
       "      <th>1</th>\n",
       "      <td>business</td>\n",
       "      <td>worldcom boss  left books alone  former worldc...</td>\n",
       "    </tr>\n",
       "    <tr>\n",
       "      <th>2</th>\n",
       "      <td>sport</td>\n",
       "      <td>tigers wary of farrell  gamble  leicester say ...</td>\n",
       "    </tr>\n",
       "    <tr>\n",
       "      <th>3</th>\n",
       "      <td>sport</td>\n",
       "      <td>yeading face newcastle in fa cup premiership s...</td>\n",
       "    </tr>\n",
       "    <tr>\n",
       "      <th>4</th>\n",
       "      <td>entertainment</td>\n",
       "      <td>ocean s twelve raids box office ocean s twelve...</td>\n",
       "    </tr>\n",
       "  </tbody>\n",
       "</table>\n",
       "</div>"
      ],
      "text/plain": [
       "        category                                               text\n",
       "0           tech  tv future in the hands of viewers with home th...\n",
       "1       business  worldcom boss  left books alone  former worldc...\n",
       "2          sport  tigers wary of farrell  gamble  leicester say ...\n",
       "3          sport  yeading face newcastle in fa cup premiership s...\n",
       "4  entertainment  ocean s twelve raids box office ocean s twelve..."
      ]
     },
     "execution_count": 3,
     "metadata": {},
     "output_type": "execute_result"
    }
   ],
   "source": [
    "data = pd.read_csv(path)\n",
    "data.head()"
   ]
  },
  {
   "cell_type": "code",
   "execution_count": 4,
   "metadata": {},
   "outputs": [],
   "source": [
    "articles = data.text.values\n",
    "labels = data.category.values"
   ]
  },
  {
   "cell_type": "code",
   "execution_count": 5,
   "metadata": {},
   "outputs": [],
   "source": [
    "stops = set(stopwords.words('english'))\n",
    "\n",
    "for i, text in enumerate(articles):\n",
    "    temp = text.split()\n",
    "    temp = [w for w in temp if not w in stops]\n",
    "    temp = \" \".join(temp)\n",
    "    articles[i] = temp"
   ]
  },
  {
   "cell_type": "code",
   "execution_count": 7,
   "metadata": {},
   "outputs": [],
   "source": [
    "from sklearn.model_selection import train_test_split\n",
    "\n",
    "train_articles, temp_articles, train_labels, temp_labels = train_test_split(articles, labels, train_size=0.7)\n",
    "val_articles, test_articles, val_labels, test_labels = train_test_split(temp_articles, temp_labels, test_size=0.5)"
   ]
  },
  {
   "cell_type": "code",
   "execution_count": 8,
   "metadata": {},
   "outputs": [],
   "source": [
    "num_words = 5000\n",
    "oov_tok = '<OOV>'\n",
    "\n",
    "tokenizer = Tokenizer(num_words=num_words, oov_token=oov_tok)\n",
    "tokenizer.fit_on_texts(train_articles)\n",
    "\n",
    "train_seq = tokenizer.texts_to_sequences(train_articles)\n",
    "val_seq = tokenizer.texts_to_sequences(val_articles)\n",
    "test_seq = tokenizer.texts_to_sequences(test_articles)"
   ]
  },
  {
   "cell_type": "code",
   "execution_count": 9,
   "metadata": {},
   "outputs": [],
   "source": [
    "max_length = 256\n",
    "\n",
    "train_padded = pad_sequences(train_seq, maxlen=max_length, padding='post', truncating='post')\n",
    "val_padded = pad_sequences(val_seq, maxlen=max_length, padding='post', truncating='post')\n",
    "test_padded = pad_sequences(test_seq, maxlen=max_length, padding='post', truncating='post')"
   ]
  },
  {
   "cell_type": "code",
   "execution_count": 10,
   "metadata": {},
   "outputs": [
    {
     "name": "stdout",
     "output_type": "stream",
     "text": [
      "(1557, 256)\n",
      "(334, 256)\n",
      "(334, 256)\n"
     ]
    }
   ],
   "source": [
    "print(train_padded.shape)\n",
    "print(val_padded.shape)\n",
    "print(test_padded.shape)"
   ]
  },
  {
   "cell_type": "code",
   "execution_count": 11,
   "metadata": {},
   "outputs": [],
   "source": [
    "label_tokenizer = Tokenizer()\n",
    "label_tokenizer.fit_on_texts(train_labels)\n",
    "\n",
    "train_labels_seq = np.array(label_tokenizer.texts_to_sequences(train_labels))\n",
    "val_labels_seq = np.array(label_tokenizer.texts_to_sequences(val_labels))\n",
    "test_labels_seq = np.array(label_tokenizer.texts_to_sequences(test_labels))"
   ]
  },
  {
   "cell_type": "code",
   "execution_count": 12,
   "metadata": {},
   "outputs": [
    {
     "name": "stdout",
     "output_type": "stream",
     "text": [
      "Model: \"sequential\"\n",
      "_________________________________________________________________\n",
      " Layer (type)                Output Shape              Param #   \n",
      "=================================================================\n",
      " embedding (Embedding)       (None, None, 64)          320000    \n",
      "                                                                 \n",
      " bidirectional (Bidirectiona  (None, 128)              66048     \n",
      " l)                                                              \n",
      "                                                                 \n",
      " dense (Dense)               (None, 64)                8256      \n",
      "                                                                 \n",
      " dense_1 (Dense)             (None, 6)                 390       \n",
      "                                                                 \n",
      "=================================================================\n",
      "Total params: 394,694\n",
      "Trainable params: 394,694\n",
      "Non-trainable params: 0\n",
      "_________________________________________________________________\n"
     ]
    }
   ],
   "source": [
    "embedding_dim = 64\n",
    "\n",
    "model = keras.models.Sequential([\n",
    "    keras.layers.Embedding(num_words, embedding_dim),\n",
    "    keras.layers.Bidirectional(keras.layers.LSTM(embedding_dim, seed=42)),\n",
    "    keras.layers.Dense(embedding_dim, activation='relu'),\n",
    "    keras.layers.Dense(6, activation='softmax')\n",
    "])\n",
    "\n",
    "model.summary()"
   ]
  },
  {
   "cell_type": "code",
   "execution_count": 13,
   "metadata": {},
   "outputs": [],
   "source": [
    "model.compile(\n",
    "    optimizer=keras.optimizers.Adam(),\n",
    "    loss=keras.losses.SparseCategoricalCrossentropy(),\n",
    "    metrics=['accuracy']\n",
    ")"
   ]
  },
  {
   "cell_type": "code",
   "execution_count": 15,
   "metadata": {},
   "outputs": [
    {
     "name": "stdout",
     "output_type": "stream",
     "text": [
      "Epoch 1/10\n"
     ]
    },
    {
     "name": "stdout",
     "output_type": "stream",
     "text": [
      "195/195 [==============================] - 5s 25ms/step - loss: 3.8154e-05 - accuracy: 1.0000 - val_loss: 0.3355 - val_accuracy: 0.9311\n",
      "Epoch 2/10\n",
      "195/195 [==============================] - 5s 25ms/step - loss: 3.2573e-05 - accuracy: 1.0000 - val_loss: 0.3403 - val_accuracy: 0.9311\n",
      "Epoch 3/10\n",
      "195/195 [==============================] - 5s 25ms/step - loss: 2.7986e-05 - accuracy: 1.0000 - val_loss: 0.3480 - val_accuracy: 0.9341\n",
      "Epoch 4/10\n",
      "195/195 [==============================] - 5s 24ms/step - loss: 2.4193e-05 - accuracy: 1.0000 - val_loss: 0.3524 - val_accuracy: 0.9341\n",
      "Epoch 5/10\n",
      "195/195 [==============================] - 5s 25ms/step - loss: 2.1030e-05 - accuracy: 1.0000 - val_loss: 0.3572 - val_accuracy: 0.9341\n",
      "Epoch 6/10\n",
      "195/195 [==============================] - 5s 25ms/step - loss: 1.8344e-05 - accuracy: 1.0000 - val_loss: 0.3635 - val_accuracy: 0.9401\n",
      "Epoch 7/10\n",
      "195/195 [==============================] - 5s 25ms/step - loss: 1.6084e-05 - accuracy: 1.0000 - val_loss: 0.3680 - val_accuracy: 0.9401\n",
      "Epoch 8/10\n",
      "195/195 [==============================] - 5s 24ms/step - loss: 1.4104e-05 - accuracy: 1.0000 - val_loss: 0.3723 - val_accuracy: 0.9401\n",
      "Epoch 9/10\n",
      "195/195 [==============================] - 5s 24ms/step - loss: 1.2421e-05 - accuracy: 1.0000 - val_loss: 0.3768 - val_accuracy: 0.9401\n",
      "Epoch 10/10\n",
      "195/195 [==============================] - 5s 25ms/step - loss: 1.0979e-05 - accuracy: 1.0000 - val_loss: 0.3808 - val_accuracy: 0.9401\n"
     ]
    }
   ],
   "source": [
    "history = model.fit(train_padded, train_labels_seq, epochs=10, batch_size=8, validation_data=(val_padded,val_labels_seq))"
   ]
  },
  {
   "cell_type": "code",
   "execution_count": 16,
   "metadata": {},
   "outputs": [
    {
     "name": "stdout",
     "output_type": "stream",
     "text": [
      "11/11 [==============================] - 0s 18ms/step - loss: 0.3817 - accuracy: 0.9401\n",
      "Testing Loss: 0.38172417879104614\n",
      "Testing Accuracy: 0.940119743347168\n"
     ]
    }
   ],
   "source": [
    "loss, acc = model.evaluate(test_padded, test_labels_seq)\n",
    "print(f\"Testing Loss: {loss}\")\n",
    "print(f\"Testing Accuracy: {acc}\")"
   ]
  },
  {
   "cell_type": "code",
   "execution_count": 17,
   "metadata": {},
   "outputs": [
    {
     "data": {
      "image/png": "[encoded data removed]",
      "text/plain": [
       "<Figure size 1200x500 with 2 Axes>"
      ]
     },
     "metadata": {},
     "output_type": "display_data"
    }
   ],
   "source": [
    "plt.figure(figsize=(12,5))\n",
    "\n",
    "plt.subplot(1,2,1)\n",
    "plt.plot(history.history['loss'], label='Training Loss')\n",
    "plt.plot(history.history['val_loss'], label='Validation Loss')\n",
    "plt.xlabel('Epochs')\n",
    "plt.ylabel('Loss')\n",
    "plt.legend()\n",
    "\n",
    "plt.subplot(1,2,2)\n",
    "plt.plot(history.history['accuracy'], label='Training Accuracy')\n",
    "plt.plot(history.history['val_accuracy'], label='Validation Accuracy')\n",
    "plt.xlabel('Epochs')\n",
    "plt.ylabel('Accuracy')\n",
    "plt.legend()\n",
    "\n",
    "plt.show()"
   ]
  },
  {
   "cell_type": "code",
   "execution_count": 19,
   "metadata": {},
   "outputs": [
    {
     "name": "stdout",
     "output_type": "stream",
     "text": [
      "1/1 [==============================] - 0s 22ms/step\n",
      "Category: politics\n"
     ]
    }
   ],
   "source": [
    "txt = [\"blair prepares to name poll date tony blair is likely to name 5 may as election day when parliament returns from its easter break  the bbc s political editor has learned.  andrew marr says mr blair will ask the queen on 4 or 5 april to dissolve parliament at the end of that week. mr blair has so far resisted calls for him to name the day but all parties have stepped up campaigning recently. downing street would not be drawn on the claim  saying election timing was a matter for the prime minister.  a number 10 spokeswoman would only say:  he will announce an election when he wants to announce an election.  the move will signal a frantic week at westminster as the government is likely to try to get key legislation through parliament. the government needs its finance bill  covering the budget plans  to be passed before the commons closes for business at the end of the session on 7 april.  but it will also seek to push through its serious and organised crime bill and id cards bill. mr marr said on wednesday s today programme:  there s almost nobody at a senior level inside the government or in parliament itself who doesn t expect the election to be called on 4 or 5 april.  as soon as the commons is back after the short easter recess  tony blair whips up to the palace  asks the queen to dissolve parliament ... and we re going.  the labour government officially has until june 2006 to hold general election  but in recent years governments have favoured four-year terms.\"]\n",
    "\n",
    "seq = tokenizer.texts_to_sequences(txt)\n",
    "padded = pad_sequences(seq, maxlen=max_length, padding='post', truncating='post')\n",
    "\n",
    "predict = model.predict(padded)\n",
    "idx = np.argmax(predict)\n",
    "\n",
    "article_labels = label_tokenizer.word_index\n",
    "true_labels = list(article_labels.keys())\n",
    "\n",
    "print(f\"Category: {true_labels[idx-1]}\")"
   ]
  }
 ],
 "metadata": {
  "kernelspec": {
   "display_name": "deep_learning",
   "language": "python",
   "name": "python3"
  },
  "language_info": {
   "codemirror_mode": {
    "name": "ipython",
    "version": 3
   },
   "file_extension": ".py",
   "mimetype": "text/x-python",
   "name": "python",
   "nbconvert_exporter": "python",
   "pygments_lexer": "ipython3",
   "version": "3.10.9"
  }
 },
 "nbformat": 4,
 "nbformat_minor": 2
}
